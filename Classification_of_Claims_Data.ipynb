{
 "cells": [
  {
   "cell_type": "markdown",
   "metadata": {},
   "source": [
    "# **CLASSIFICATION OF CLAIMS DATA**"
   ]
  },
  {
   "cell_type": "code",
   "execution_count": 59,
   "metadata": {
    "id": "b6hokzBs9qpn"
   },
   "outputs": [],
   "source": [
    "import pandas as pd\n",
    "import numpy as np\n",
    "import seaborn as sns\n",
    "import matplotlib.pyplot as plt\n",
    "\n",
    "from sklearn.model_selection import train_test_split\n",
    "from sklearn.linear_model import LinearRegression\n",
    "from sklearn.linear_model import LogisticRegression\n",
    "from xgboost import XGBClassifier\n",
    "\n",
    "from sklearn.metrics import accuracy_score\n",
    "from sklearn.metrics import confusion_matrix\n",
    "from sklearn.metrics import mean_squared_error,mean_absolute_error,r2_score"
   ]
  },
  {
   "cell_type": "markdown",
   "metadata": {
    "id": "UXzsHvD2CfXb"
   },
   "source": [
    "## **LOAD DATA**"
   ]
  },
  {
   "cell_type": "code",
   "execution_count": 2,
   "metadata": {
    "colab": {
     "base_uri": "https://localhost:8080/",
     "height": 197
    },
    "id": "XvovD1gDCDg2",
    "outputId": "dd763689-4c14-42d6-ce93-a8f130b272ed"
   },
   "outputs": [
    {
     "data": {
      "text/html": [
       "<div>\n",
       "<style scoped>\n",
       "    .dataframe tbody tr th:only-of-type {\n",
       "        vertical-align: middle;\n",
       "    }\n",
       "\n",
       "    .dataframe tbody tr th {\n",
       "        vertical-align: top;\n",
       "    }\n",
       "\n",
       "    .dataframe thead th {\n",
       "        text-align: right;\n",
       "    }\n",
       "</style>\n",
       "<table border=\"1\" class=\"dataframe\">\n",
       "  <thead>\n",
       "    <tr style=\"text-align: right;\">\n",
       "      <th></th>\n",
       "      <th>age</th>\n",
       "      <th>sex</th>\n",
       "      <th>bmi</th>\n",
       "      <th>steps</th>\n",
       "      <th>children</th>\n",
       "      <th>smoker</th>\n",
       "      <th>region</th>\n",
       "      <th>insurance_claim</th>\n",
       "      <th>claim_amount</th>\n",
       "    </tr>\n",
       "  </thead>\n",
       "  <tbody>\n",
       "    <tr>\n",
       "      <th>0</th>\n",
       "      <td>19</td>\n",
       "      <td>female</td>\n",
       "      <td>27.900</td>\n",
       "      <td>3009</td>\n",
       "      <td>0</td>\n",
       "      <td>yes</td>\n",
       "      <td>southwest</td>\n",
       "      <td>yes</td>\n",
       "      <td>16884.9240</td>\n",
       "    </tr>\n",
       "    <tr>\n",
       "      <th>1</th>\n",
       "      <td>18</td>\n",
       "      <td>male</td>\n",
       "      <td>33.770</td>\n",
       "      <td>3008</td>\n",
       "      <td>1</td>\n",
       "      <td>no</td>\n",
       "      <td>southeast</td>\n",
       "      <td>yes</td>\n",
       "      <td>1725.5523</td>\n",
       "    </tr>\n",
       "    <tr>\n",
       "      <th>2</th>\n",
       "      <td>28</td>\n",
       "      <td>male</td>\n",
       "      <td>33.000</td>\n",
       "      <td>3009</td>\n",
       "      <td>3</td>\n",
       "      <td>no</td>\n",
       "      <td>southeast</td>\n",
       "      <td>no</td>\n",
       "      <td>0.0000</td>\n",
       "    </tr>\n",
       "    <tr>\n",
       "      <th>3</th>\n",
       "      <td>33</td>\n",
       "      <td>male</td>\n",
       "      <td>22.705</td>\n",
       "      <td>10009</td>\n",
       "      <td>0</td>\n",
       "      <td>no</td>\n",
       "      <td>northwest</td>\n",
       "      <td>no</td>\n",
       "      <td>0.0000</td>\n",
       "    </tr>\n",
       "    <tr>\n",
       "      <th>4</th>\n",
       "      <td>32</td>\n",
       "      <td>male</td>\n",
       "      <td>28.880</td>\n",
       "      <td>8010</td>\n",
       "      <td>0</td>\n",
       "      <td>no</td>\n",
       "      <td>northwest</td>\n",
       "      <td>yes</td>\n",
       "      <td>3866.8552</td>\n",
       "    </tr>\n",
       "  </tbody>\n",
       "</table>\n",
       "</div>"
      ],
      "text/plain": [
       "   age     sex     bmi  steps  children smoker     region insurance_claim  \\\n",
       "0   19  female  27.900   3009         0    yes  southwest             yes   \n",
       "1   18    male  33.770   3008         1     no  southeast             yes   \n",
       "2   28    male  33.000   3009         3     no  southeast              no   \n",
       "3   33    male  22.705  10009         0     no  northwest              no   \n",
       "4   32    male  28.880   8010         0     no  northwest             yes   \n",
       "\n",
       "   claim_amount  \n",
       "0    16884.9240  \n",
       "1     1725.5523  \n",
       "2        0.0000  \n",
       "3        0.0000  \n",
       "4     3866.8552  "
      ]
     },
     "execution_count": 2,
     "metadata": {},
     "output_type": "execute_result"
    }
   ],
   "source": [
    "claims = pd.read_csv('claims_data.csv')\n",
    "claims.head()"
   ]
  },
  {
   "cell_type": "markdown",
   "metadata": {
    "id": "eQWqeB1fCjw3"
   },
   "source": [
    "## **EXPLORATORY DATA ANALYSIS**"
   ]
  },
  {
   "cell_type": "code",
   "execution_count": 3,
   "metadata": {
    "colab": {
     "base_uri": "https://localhost:8080/",
     "height": 347
    },
    "id": "1xW3LgkuCcVi",
    "outputId": "ea2d063a-f5c3-4c6b-da96-15758da34674"
   },
   "outputs": [
    {
     "data": {
      "text/plain": [
       "<matplotlib.axes._subplots.AxesSubplot at 0x2c232b397f0>"
      ]
     },
     "execution_count": 3,
     "metadata": {},
     "output_type": "execute_result"
    },
    {
     "data": {
      "image/png": "[encoded data removed]",
      "text/plain": [
       "<Figure size 432x288 with 2 Axes>"
      ]
     },
     "metadata": {
      "needs_background": "light"
     },
     "output_type": "display_data"
    }
   ],
   "source": [
    "corr = claims.corr()\n",
    "\n",
    "# Generate a custom diverging colormap\n",
    "cmap = sns.diverging_palette(230, 20, as_cmap=True)\n",
    "\n",
    "# Draw the heatmap with the mask and correct aspect ratio\n",
    "sns.heatmap(corr, cmap=cmap, vmax=1, vmin=-1, center=0,\n",
    "            square=True)"
   ]
  },
  {
   "cell_type": "markdown",
   "metadata": {
    "id": "Gq3YssEGRcSI"
   },
   "source": [
    "The correlation heatmap shows the relationship between the numerical columns in the dataset. With a correlation of 1 showing the highest positive correlation between two features and -1 showing the highest negative correlation between two features."
   ]
  },
  {
   "cell_type": "code",
   "execution_count": 4,
   "metadata": {
    "colab": {
     "base_uri": "https://localhost:8080/",
     "height": 280
    },
    "id": "xcbgrem53Hi2",
    "outputId": "11b8382d-afaa-4343-db3b-2a1e05ad0d03"
   },
   "outputs": [
    {
     "data": {
      "image/png": "[encoded data removed]",
      "text/plain": [
       "<Figure size 432x288 with 1 Axes>"
      ]
     },
     "metadata": {
      "needs_background": "light"
     },
     "output_type": "display_data"
    }
   ],
   "source": [
    "ax = sns.countplot(x=\"insurance_claim\", hue=\"sex\", data=claims)"
   ]
  },
  {
   "cell_type": "code",
   "execution_count": 5,
   "metadata": {
    "colab": {
     "base_uri": "https://localhost:8080/",
     "height": 280
    },
    "id": "EpYY0H6B4RSg",
    "outputId": "bf12f7ec-713d-4ec4-e940-336175f1afd4"
   },
   "outputs": [
    {
     "data": {
      "image/png": "[encoded data removed]",
      "text/plain": [
       "<Figure size 432x288 with 1 Axes>"
      ]
     },
     "metadata": {
      "needs_background": "light"
     },
     "output_type": "display_data"
    }
   ],
   "source": [
    "ax = sns.countplot(x=\"insurance_claim\", hue=\"smoker\", data=claims)"
   ]
  },
  {
   "cell_type": "markdown",
   "metadata": {
    "id": "8CkZgEEoR5BI"
   },
   "source": [
    "The two countplots above show how smoker status and gender affects whether or not the customer claimed. It is clear that more males claim than females and more non-smokers claim than smokers."
   ]
  },
  {
   "cell_type": "code",
   "execution_count": 6,
   "metadata": {
    "colab": {
     "base_uri": "https://localhost:8080/",
     "height": 280
    },
    "id": "Ey9PTUWmTE1V",
    "outputId": "eb28c60c-ff47-4656-c203-d6f4078116a3"
   },
   "outputs": [
    {
     "data": {
      "image/png": "[encoded data removed]",
      "text/plain": [
       "<Figure size 432x288 with 1 Axes>"
      ]
     },
     "metadata": {
      "needs_background": "light"
     },
     "output_type": "display_data"
    }
   ],
   "source": [
    "ax = sns.countplot(x=\"insurance_claim\", hue=\"region\", data=claims)"
   ]
  },
  {
   "cell_type": "code",
   "execution_count": 7,
   "metadata": {
    "colab": {
     "base_uri": "https://localhost:8080/",
     "height": 297
    },
    "id": "RdcgUNrY6Av4",
    "outputId": "d3d18244-b2f0-40a0-fa2a-789cb60925dc"
   },
   "outputs": [
    {
     "data": {
      "text/plain": [
       "<matplotlib.legend.Legend at 0x2c232dd4630>"
      ]
     },
     "execution_count": 7,
     "metadata": {},
     "output_type": "execute_result"
    },
    {
     "data": {
      "image/png": "[encoded data removed]",
      "text/plain": [
       "<Figure size 432x288 with 1 Axes>"
      ]
     },
     "metadata": {
      "needs_background": "light"
     },
     "output_type": "display_data"
    }
   ],
   "source": [
    "ax = sns.boxplot(x=\"insurance_claim\", y=\"bmi\", hue=\"region\",\n",
    "                 data=claims, palette=\"Set3\")\n",
    "# Put the legend out of the figure\n",
    "plt.legend(bbox_to_anchor=(1.05, 1), loc=2, borderaxespad=0.)"
   ]
  },
  {
   "cell_type": "markdown",
   "metadata": {
    "id": "dPTglLOYSWl9"
   },
   "source": [
    "The boxplot and barplot above shows how bmi and region affects whether or not a customer claims. Customers in the southeast region shows to have the highest average bmi between the customers who claim while customers in the northeast show to have the lowest bmi's on average. It is clear from the barplot that more customers in the southeast region are claiming with northeast having the least customers claiming. Therefore, it is safe to assume that the customer's bmi has a negative correlation with whether or not a customer claims. "
   ]
  },
  {
   "cell_type": "code",
   "execution_count": 8,
   "metadata": {
    "colab": {
     "base_uri": "https://localhost:8080/",
     "height": 315
    },
    "id": "tFiV306p7Or5",
    "outputId": "8b80d3c4-4c27-4939-e87d-df26608a656a"
   },
   "outputs": [
    {
     "data": {
      "image/png": "[encoded data removed]",
      "text/plain": [
       "<Figure size 432x288 with 1 Axes>"
      ]
     },
     "metadata": {
      "needs_background": "light"
     },
     "output_type": "display_data"
    }
   ],
   "source": [
    "ax = sns.boxplot(x=\"insurance_claim\", y=\"children\",\n",
    "                 data=claims, palette=\"Set3\")"
   ]
  },
  {
   "cell_type": "markdown",
   "metadata": {
    "id": "5kK_HBWeTxT4"
   },
   "source": [
    "Customers with more children tend not to claim."
   ]
  },
  {
   "cell_type": "code",
   "execution_count": 9,
   "metadata": {
    "colab": {
     "base_uri": "https://localhost:8080/",
     "height": 315
    },
    "id": "8bLvs3qc7j2X",
    "outputId": "dc3c76c8-51c9-4d85-9c25-c54af5345e92"
   },
   "outputs": [
    {
     "data": {
      "image/png": "[encoded data removed]",
      "text/plain": [
       "<Figure size 432x288 with 1 Axes>"
      ]
     },
     "metadata": {
      "needs_background": "light"
     },
     "output_type": "display_data"
    }
   ],
   "source": [
    "ax = sns.boxplot(x=\"insurance_claim\", y=\"age\",\n",
    "                 data=claims, palette=\"Set3\")"
   ]
  },
  {
   "cell_type": "markdown",
   "metadata": {
    "id": "-l8nYilsT5qM"
   },
   "source": [
    "Older customers tend to claim more compared to younger customers."
   ]
  },
  {
   "cell_type": "markdown",
   "metadata": {
    "id": "cgf2DX8sCq_B"
   },
   "source": [
    "## **MODELING**"
   ]
  },
  {
   "cell_type": "code",
   "execution_count": 10,
   "metadata": {
    "id": "2Zmw6H0HC5I4"
   },
   "outputs": [],
   "source": [
    "# SPLITTING DATASET INTO FEATURES AND LABELS\n",
    " \n",
    "y = claims['insurance_claim']\n",
    "X = claims.drop('insurance_claim', axis=1)"
   ]
  },
  {
   "cell_type": "code",
   "execution_count": 11,
   "metadata": {
    "id": "PrBqqugpzJ3S"
   },
   "outputs": [],
   "source": [
    "# TRANSFORM THE CATEGORICAL DATA INTO NUMERICAL DATA\n",
    "\n",
    "X = pd.get_dummies(X, drop_first=True)"
   ]
  },
  {
   "cell_type": "code",
   "execution_count": 12,
   "metadata": {
    "id": "eYdZ_UHCEuSd"
   },
   "outputs": [],
   "source": [
    "# SPLITTING INTO TRAIN AND TEST SETS\n",
    "\n",
    "X_train, X_test, y_train, y_test = train_test_split(X, y, test_size=0.3, random_state=50)"
   ]
  },
  {
   "cell_type": "markdown",
   "metadata": {
    "id": "L11qyKbl8inr"
   },
   "source": [
    "**LOGISTIC REGRESSION MODEL**"
   ]
  },
  {
   "cell_type": "code",
   "execution_count": 13,
   "metadata": {
    "colab": {
     "base_uri": "https://localhost:8080/"
    },
    "id": "Fd1BS8p3E-D1",
    "outputId": "92e30fa2-fec4-416c-cd69-09a5260fe2da"
   },
   "outputs": [
    {
     "name": "stderr",
     "output_type": "stream",
     "text": [
      "C:\\Users\\User\\Anaconda3\\lib\\site-packages\\sklearn\\linear_model\\logistic.py:432: FutureWarning: Default solver will be changed to 'lbfgs' in 0.22. Specify a solver to silence this warning.\n",
      "  FutureWarning)\n"
     ]
    },
    {
     "data": {
      "text/plain": [
       "LogisticRegression(C=1.0, class_weight=None, dual=False, fit_intercept=True,\n",
       "                   intercept_scaling=1, l1_ratio=None, max_iter=100,\n",
       "                   multi_class='warn', n_jobs=None, penalty='l2',\n",
       "                   random_state=None, solver='warn', tol=0.0001, verbose=0,\n",
       "                   warm_start=False)"
      ]
     },
     "execution_count": 13,
     "metadata": {},
     "output_type": "execute_result"
    }
   ],
   "source": [
    "# FIT THE MODEL TO THE TRAINING SET\n",
    "\n",
    "lr = LogisticRegression()\n",
    "lr.fit(X_train, y_train)"
   ]
  },
  {
   "cell_type": "code",
   "execution_count": 14,
   "metadata": {
    "id": "lWefXVzQFRlB"
   },
   "outputs": [],
   "source": [
    "# USE THE MODEL TO PREDICT Y VALUES \n",
    "\n",
    "y_pred = lr.predict(X_test)"
   ]
  },
  {
   "cell_type": "markdown",
   "metadata": {
    "id": "zXaFwDu59i_z"
   },
   "source": [
    "**XGBOOST MODEL**"
   ]
  },
  {
   "cell_type": "code",
   "execution_count": 15,
   "metadata": {
    "colab": {
     "base_uri": "https://localhost:8080/"
    },
    "id": "YAuVxMiT9pZ9",
    "outputId": "e26dadf2-a638-4a48-c1c0-8897c8331724"
   },
   "outputs": [
    {
     "data": {
      "text/plain": [
       "XGBClassifier(base_score=0.5, booster='gbtree', colsample_bylevel=1,\n",
       "              colsample_bynode=1, colsample_bytree=1, gamma=0,\n",
       "              learning_rate=0.1, max_delta_step=0, max_depth=3,\n",
       "              min_child_weight=1, missing=None, n_estimators=100, n_jobs=1,\n",
       "              nthread=None, objective='binary:logistic', random_state=0,\n",
       "              reg_alpha=0, reg_lambda=1, scale_pos_weight=1, seed=None,\n",
       "              silent=None, subsample=1, verbosity=1)"
      ]
     },
     "execution_count": 15,
     "metadata": {},
     "output_type": "execute_result"
    }
   ],
   "source": [
    "xg =  XGBClassifier()\n",
    "xg.fit(X_train, y_train)"
   ]
  },
  {
   "cell_type": "code",
   "execution_count": 16,
   "metadata": {
    "id": "PRZ228sS93Ne"
   },
   "outputs": [],
   "source": [
    "y_pred2 = xg.predict(X_test)"
   ]
  },
  {
   "cell_type": "markdown",
   "metadata": {},
   "source": [
    "**LINEAR REGRESSION MODEL**"
   ]
  },
  {
   "cell_type": "code",
   "execution_count": 17,
   "metadata": {},
   "outputs": [
    {
     "data": {
      "text/html": [
       "<div>\n",
       "<style scoped>\n",
       "    .dataframe tbody tr th:only-of-type {\n",
       "        vertical-align: middle;\n",
       "    }\n",
       "\n",
       "    .dataframe tbody tr th {\n",
       "        vertical-align: top;\n",
       "    }\n",
       "\n",
       "    .dataframe thead th {\n",
       "        text-align: right;\n",
       "    }\n",
       "</style>\n",
       "<table border=\"1\" class=\"dataframe\">\n",
       "  <thead>\n",
       "    <tr style=\"text-align: right;\">\n",
       "      <th></th>\n",
       "      <th>age</th>\n",
       "      <th>sex</th>\n",
       "      <th>bmi</th>\n",
       "      <th>steps</th>\n",
       "      <th>children</th>\n",
       "      <th>smoker</th>\n",
       "      <th>region</th>\n",
       "      <th>insurance_claim</th>\n",
       "      <th>claim_amount</th>\n",
       "    </tr>\n",
       "  </thead>\n",
       "  <tbody>\n",
       "    <tr>\n",
       "      <th>0</th>\n",
       "      <td>19</td>\n",
       "      <td>female</td>\n",
       "      <td>27.90</td>\n",
       "      <td>3009</td>\n",
       "      <td>0</td>\n",
       "      <td>yes</td>\n",
       "      <td>southwest</td>\n",
       "      <td>yes</td>\n",
       "      <td>16884.9240</td>\n",
       "    </tr>\n",
       "    <tr>\n",
       "      <th>1</th>\n",
       "      <td>18</td>\n",
       "      <td>male</td>\n",
       "      <td>33.77</td>\n",
       "      <td>3008</td>\n",
       "      <td>1</td>\n",
       "      <td>no</td>\n",
       "      <td>southeast</td>\n",
       "      <td>yes</td>\n",
       "      <td>1725.5523</td>\n",
       "    </tr>\n",
       "    <tr>\n",
       "      <th>4</th>\n",
       "      <td>32</td>\n",
       "      <td>male</td>\n",
       "      <td>28.88</td>\n",
       "      <td>8010</td>\n",
       "      <td>0</td>\n",
       "      <td>no</td>\n",
       "      <td>northwest</td>\n",
       "      <td>yes</td>\n",
       "      <td>3866.8552</td>\n",
       "    </tr>\n",
       "    <tr>\n",
       "      <th>6</th>\n",
       "      <td>46</td>\n",
       "      <td>female</td>\n",
       "      <td>33.44</td>\n",
       "      <td>3002</td>\n",
       "      <td>1</td>\n",
       "      <td>no</td>\n",
       "      <td>southeast</td>\n",
       "      <td>yes</td>\n",
       "      <td>8240.5896</td>\n",
       "    </tr>\n",
       "    <tr>\n",
       "      <th>10</th>\n",
       "      <td>25</td>\n",
       "      <td>male</td>\n",
       "      <td>26.22</td>\n",
       "      <td>8006</td>\n",
       "      <td>0</td>\n",
       "      <td>no</td>\n",
       "      <td>northeast</td>\n",
       "      <td>yes</td>\n",
       "      <td>2721.3208</td>\n",
       "    </tr>\n",
       "  </tbody>\n",
       "</table>\n",
       "</div>"
      ],
      "text/plain": [
       "    age     sex    bmi  steps  children smoker     region insurance_claim  \\\n",
       "0    19  female  27.90   3009         0    yes  southwest             yes   \n",
       "1    18    male  33.77   3008         1     no  southeast             yes   \n",
       "4    32    male  28.88   8010         0     no  northwest             yes   \n",
       "6    46  female  33.44   3002         1     no  southeast             yes   \n",
       "10   25    male  26.22   8006         0     no  northeast             yes   \n",
       "\n",
       "    claim_amount  \n",
       "0     16884.9240  \n",
       "1      1725.5523  \n",
       "4      3866.8552  \n",
       "6      8240.5896  \n",
       "10     2721.3208  "
      ]
     },
     "execution_count": 17,
     "metadata": {},
     "output_type": "execute_result"
    }
   ],
   "source": [
    "yes_claim = claims[claims['insurance_claim']== 'yes']\n",
    "yes_claim.head()"
   ]
  },
  {
   "cell_type": "code",
   "execution_count": 46,
   "metadata": {},
   "outputs": [],
   "source": [
    "y = yes_claim['claim_amount']\n",
    "X = yes_claim.drop(['insurance_claim','claim_amount'], axis=1)"
   ]
  },
  {
   "cell_type": "code",
   "execution_count": 47,
   "metadata": {},
   "outputs": [],
   "source": [
    "# TRANSFORM THE CATEGORICAL DATA INTO NUMERICAL DATA\n",
    "\n",
    "X = pd.get_dummies(X, drop_first=True)"
   ]
  },
  {
   "cell_type": "code",
   "execution_count": 48,
   "metadata": {},
   "outputs": [],
   "source": [
    "# SPLITTING INTO TRAIN AND TEST SETS\n",
    "\n",
    "X_train_2, X_test_2, y_train_2, y_test_2 = train_test_split(X, y, test_size=0.3, random_state=50)"
   ]
  },
  {
   "cell_type": "code",
   "execution_count": 49,
   "metadata": {},
   "outputs": [
    {
     "data": {
      "text/plain": [
       "LinearRegression(copy_X=True, fit_intercept=True, n_jobs=None, normalize=False)"
      ]
     },
     "execution_count": 49,
     "metadata": {},
     "output_type": "execute_result"
    }
   ],
   "source": [
    "linr = LinearRegression()\n",
    "linr.fit(X_train_2, y_train_2)"
   ]
  },
  {
   "cell_type": "code",
   "execution_count": 50,
   "metadata": {},
   "outputs": [],
   "source": [
    "y_pred3 = linr.predict(X_test_2)"
   ]
  },
  {
   "cell_type": "markdown",
   "metadata": {
    "id": "e51lYxD9DZdI"
   },
   "source": [
    "## **EVALUATE MODELS**"
   ]
  },
  {
   "cell_type": "markdown",
   "metadata": {
    "id": "ifGXDn---AwK"
   },
   "source": [
    "**LOGISTIC REGRESSION**"
   ]
  },
  {
   "cell_type": "code",
   "execution_count": 23,
   "metadata": {
    "colab": {
     "base_uri": "https://localhost:8080/"
    },
    "id": "mKMeMQf-DfbX",
    "outputId": "f99133ac-dbec-444e-ce93-c1f88fc615e6"
   },
   "outputs": [
    {
     "data": {
      "text/plain": [
       "1.0"
      ]
     },
     "execution_count": 23,
     "metadata": {},
     "output_type": "execute_result"
    }
   ],
   "source": [
    "accuracy_score(y_test, y_pred)"
   ]
  },
  {
   "cell_type": "code",
   "execution_count": 24,
   "metadata": {
    "colab": {
     "base_uri": "https://localhost:8080/"
    },
    "id": "SBubicXZGbZw",
    "outputId": "920540e6-3aeb-470f-fd6b-71efb3ea7a07"
   },
   "outputs": [
    {
     "data": {
      "text/plain": [
       "array([[171,   0],\n",
       "       [  0, 231]], dtype=int64)"
      ]
     },
     "execution_count": 24,
     "metadata": {},
     "output_type": "execute_result"
    }
   ],
   "source": [
    "confusion_matrix(y_test, y_pred)"
   ]
  },
  {
   "cell_type": "markdown",
   "metadata": {
    "id": "Z9bbnywZ-GoL"
   },
   "source": [
    "**XGBOOST**"
   ]
  },
  {
   "cell_type": "code",
   "execution_count": 25,
   "metadata": {
    "colab": {
     "base_uri": "https://localhost:8080/"
    },
    "id": "QGzAv1Xh-RbE",
    "outputId": "b7492a36-0c02-407d-ffc5-75cce518753d"
   },
   "outputs": [
    {
     "data": {
      "text/plain": [
       "1.0"
      ]
     },
     "execution_count": 25,
     "metadata": {},
     "output_type": "execute_result"
    }
   ],
   "source": [
    "accuracy_score(y_test, y_pred2)"
   ]
  },
  {
   "cell_type": "code",
   "execution_count": 26,
   "metadata": {
    "colab": {
     "base_uri": "https://localhost:8080/"
    },
    "id": "EwpNzRIj-WGd",
    "outputId": "7efd5fe8-646f-49b5-e36e-f05492db305a"
   },
   "outputs": [
    {
     "data": {
      "text/plain": [
       "array([[171,   0],\n",
       "       [  0, 231]], dtype=int64)"
      ]
     },
     "execution_count": 26,
     "metadata": {},
     "output_type": "execute_result"
    }
   ],
   "source": [
    "confusion_matrix(y_test, y_pred2)"
   ]
  },
  {
   "cell_type": "markdown",
   "metadata": {},
   "source": [
    "**LINEAR REGRESSION**"
   ]
  },
  {
   "cell_type": "code",
   "execution_count": 56,
   "metadata": {},
   "outputs": [
    {
     "data": {
      "text/plain": [
       "(235, 1)"
      ]
     },
     "execution_count": 56,
     "metadata": {},
     "output_type": "execute_result"
    }
   ],
   "source": [
    "y_test_2 = np.array(y_test_2).reshape(-1,1)\n",
    "y_test_2.shape"
   ]
  },
  {
   "cell_type": "code",
   "execution_count": 53,
   "metadata": {},
   "outputs": [
    {
     "data": {
      "text/plain": [
       "(235, 1)"
      ]
     },
     "execution_count": 53,
     "metadata": {},
     "output_type": "execute_result"
    }
   ],
   "source": [
    "y_pred3.reshape(-1,1).shape"
   ]
  },
  {
   "cell_type": "code",
   "execution_count": 57,
   "metadata": {},
   "outputs": [],
   "source": [
    "residuals=y_test_2-y_pred3"
   ]
  },
  {
   "cell_type": "code",
   "execution_count": 60,
   "metadata": {},
   "outputs": [
    {
     "name": "stdout",
     "output_type": "stream",
     "text": [
      "MSE: 39456019.00465112\n",
      "RMSE: 6281.402630356624\n",
      "MAE: 4652.443161345529\n",
      "R2 Score: 0.819544866311619\n"
     ]
    }
   ],
   "source": [
    "print('MSE:', mean_squared_error(y_test_2,y_pred3))\n",
    "print('RMSE:',mean_squared_error(y_test_2,y_pred3)**0.5)\n",
    "print('MAE:',mean_absolute_error(y_test_2,y_pred3))\n",
    "print('R2 Score:',r2_score(y_test_2,y_pred3))"
   ]
  },
  {
   "cell_type": "markdown",
   "metadata": {
    "id": "qn0c8lbxDkU3"
   },
   "source": [
    "## **CONCLUSION**"
   ]
  },
  {
   "cell_type": "markdown",
   "metadata": {
    "id": "85GkStI8G_wr"
   },
   "source": [
    "Both the classification models produced 100% accuracy. \n",
    "For the Linear Regression model the Mean Squared Error (MSE) being an estimator measuring the average squared difference between the estimated values and true value is quite large. This may be a concern and further evauluation of the model should be considered. One suggestion would be data clean up or data extraction to use more valuable data. The Coefficient of determination (R2) of the linear regression model is 0.82 and this score is the amount of the variation in the output dependent attribute which is predictable from the input independent variable(s). The best possible value for this is 1.00, since 0.82 is relatively close to 1.00, the linear regression model did not fare too poorly, however further data analysis, cleanup and extraction may lead to a better score."
   ]
  },
  {
   "cell_type": "code",
   "execution_count": null,
   "metadata": {},
   "outputs": [],
   "source": []
  }
 ],
 "metadata": {
  "colab": {
   "name": "Classification of Claims Data.ipynb",
   "provenance": [],
   "toc_visible": true
  },
  "kernelspec": {
   "display_name": "Python 3",
   "language": "python",
   "name": "python3"
  },
  "language_info": {
   "codemirror_mode": {
    "name": "ipython",
    "version": 3
   },
   "file_extension": ".py",
   "mimetype": "text/x-python",
   "name": "python",
   "nbconvert_exporter": "python",
   "pygments_lexer": "ipython3",
   "version": "3.7.3"
  }
 },
 "nbformat": 4,
 "nbformat_minor": 1
}
