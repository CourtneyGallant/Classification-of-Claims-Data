{
  "nbformat": 4,
  "nbformat_minor": 0,
  "metadata": {
    "colab": {
      "name": "Classification of Claims Data.ipynb",
      "provenance": [],
      "toc_visible": true
    },
    "kernelspec": {
      "name": "python3",
      "display_name": "Python 3"
    }
  },
  "cells": [
    {
      "cell_type": "code",
      "metadata": {
        "id": "b6hokzBs9qpn"
      },
      "source": [
        "import pandas as pd\r\n",
        "import numpy as np\r\n",
        "import seaborn as sns\r\n",
        "import matplotlib.pyplot as plt\r\n",
        "\r\n",
        "from sklearn.model_selection import train_test_split\r\n",
        "from sklearn.linear_model import LogisticRegression\r\n",
        "from xgboost import XGBClassifier\r\n",
        "\r\n",
        "from sklearn.metrics import accuracy_score\r\n",
        "from sklearn.metrics import confusion_matrix"
      ],
      "execution_count": 1,
      "outputs": []
    },
    {
      "cell_type": "markdown",
      "metadata": {
        "id": "UXzsHvD2CfXb"
      },
      "source": [
        "## **LOAD DATA**"
      ]
    },
    {
      "cell_type": "code",
      "metadata": {
        "colab": {
          "base_uri": "https://localhost:8080/",
          "height": 197
        },
        "id": "XvovD1gDCDg2",
        "outputId": "dd763689-4c14-42d6-ce93-a8f130b272ed"
      },
      "source": [
        "claims = pd.read_csv('claims_data.csv')\r\n",
        "claims.head()"
      ],
      "execution_count": 2,
      "outputs": [
        {
          "output_type": "execute_result",
          "data": {
            "text/html": [
              "<div>\n",
              "<style scoped>\n",
              "    .dataframe tbody tr th:only-of-type {\n",
              "        vertical-align: middle;\n",
              "    }\n",
              "\n",
              "    .dataframe tbody tr th {\n",
              "        vertical-align: top;\n",
              "    }\n",
              "\n",
              "    .dataframe thead th {\n",
              "        text-align: right;\n",
              "    }\n",
              "</style>\n",
              "<table border=\"1\" class=\"dataframe\">\n",
              "  <thead>\n",
              "    <tr style=\"text-align: right;\">\n",
              "      <th></th>\n",
              "      <th>age</th>\n",
              "      <th>sex</th>\n",
              "      <th>bmi</th>\n",
              "      <th>steps</th>\n",
              "      <th>children</th>\n",
              "      <th>smoker</th>\n",
              "      <th>region</th>\n",
              "      <th>insurance_claim</th>\n",
              "      <th>claim_amount</th>\n",
              "    </tr>\n",
              "  </thead>\n",
              "  <tbody>\n",
              "    <tr>\n",
              "      <th>0</th>\n",
              "      <td>19</td>\n",
              "      <td>female</td>\n",
              "      <td>27.900</td>\n",
              "      <td>3009</td>\n",
              "      <td>0</td>\n",
              "      <td>yes</td>\n",
              "      <td>southwest</td>\n",
              "      <td>yes</td>\n",
              "      <td>16884.9240</td>\n",
              "    </tr>\n",
              "    <tr>\n",
              "      <th>1</th>\n",
              "      <td>18</td>\n",
              "      <td>male</td>\n",
              "      <td>33.770</td>\n",
              "      <td>3008</td>\n",
              "      <td>1</td>\n",
              "      <td>no</td>\n",
              "      <td>southeast</td>\n",
              "      <td>yes</td>\n",
              "      <td>1725.5523</td>\n",
              "    </tr>\n",
              "    <tr>\n",
              "      <th>2</th>\n",
              "      <td>28</td>\n",
              "      <td>male</td>\n",
              "      <td>33.000</td>\n",
              "      <td>3009</td>\n",
              "      <td>3</td>\n",
              "      <td>no</td>\n",
              "      <td>southeast</td>\n",
              "      <td>no</td>\n",
              "      <td>0.0000</td>\n",
              "    </tr>\n",
              "    <tr>\n",
              "      <th>3</th>\n",
              "      <td>33</td>\n",
              "      <td>male</td>\n",
              "      <td>22.705</td>\n",
              "      <td>10009</td>\n",
              "      <td>0</td>\n",
              "      <td>no</td>\n",
              "      <td>northwest</td>\n",
              "      <td>no</td>\n",
              "      <td>0.0000</td>\n",
              "    </tr>\n",
              "    <tr>\n",
              "      <th>4</th>\n",
              "      <td>32</td>\n",
              "      <td>male</td>\n",
              "      <td>28.880</td>\n",
              "      <td>8010</td>\n",
              "      <td>0</td>\n",
              "      <td>no</td>\n",
              "      <td>northwest</td>\n",
              "      <td>yes</td>\n",
              "      <td>3866.8552</td>\n",
              "    </tr>\n",
              "  </tbody>\n",
              "</table>\n",
              "</div>"
            ],
            "text/plain": [
              "   age     sex     bmi  steps  ...  smoker     region insurance_claim claim_amount\n",
              "0   19  female  27.900   3009  ...     yes  southwest             yes   16884.9240\n",
              "1   18    male  33.770   3008  ...      no  southeast             yes    1725.5523\n",
              "2   28    male  33.000   3009  ...      no  southeast              no       0.0000\n",
              "3   33    male  22.705  10009  ...      no  northwest              no       0.0000\n",
              "4   32    male  28.880   8010  ...      no  northwest             yes    3866.8552\n",
              "\n",
              "[5 rows x 9 columns]"
            ]
          },
          "metadata": {
            "tags": []
          },
          "execution_count": 2
        }
      ]
    },
    {
      "cell_type": "markdown",
      "metadata": {
        "id": "eQWqeB1fCjw3"
      },
      "source": [
        "## **EXPLORATORY DATA ANALYSIS**"
      ]
    },
    {
      "cell_type": "code",
      "metadata": {
        "id": "1xW3LgkuCcVi",
        "colab": {
          "base_uri": "https://localhost:8080/",
          "height": 347
        },
        "outputId": "ea2d063a-f5c3-4c6b-da96-15758da34674"
      },
      "source": [
        "corr = claims.corr()\r\n",
        "\r\n",
        "# Generate a custom diverging colormap\r\n",
        "cmap = sns.diverging_palette(230, 20, as_cmap=True)\r\n",
        "\r\n",
        "# Draw the heatmap with the mask and correct aspect ratio\r\n",
        "sns.heatmap(corr, cmap=cmap, vmax=1, vmin=-1, center=0,\r\n",
        "            square=True)"
      ],
      "execution_count": 3,
      "outputs": [
        {
          "output_type": "execute_result",
          "data": {
            "text/plain": [
              "<matplotlib.axes._subplots.AxesSubplot at 0x7fa703f38898>"
            ]
          },
          "metadata": {
            "tags": []
          },
          "execution_count": 3
        },
        {
          "output_type": "display_data",
          "data": {
            "image/png": "[encoded data removed]",
            "text/plain": [
              "<Figure size 432x288 with 2 Axes>"
            ]
          },
          "metadata": {
            "tags": [],
            "needs_background": "light"
          }
        }
      ]
    },
    {
      "cell_type": "markdown",
      "metadata": {
        "id": "Gq3YssEGRcSI"
      },
      "source": [
        "The correlation heatmap shows the relationship between the numerical columns in the dataset. With a correlation of 1 showing the highest positive correlation between two features and -1 showing the highest negative correlation between two features."
      ]
    },
    {
      "cell_type": "code",
      "metadata": {
        "colab": {
          "base_uri": "https://localhost:8080/",
          "height": 280
        },
        "id": "xcbgrem53Hi2",
        "outputId": "11b8382d-afaa-4343-db3b-2a1e05ad0d03"
      },
      "source": [
        "ax = sns.countplot(x=\"insurance_claim\", hue=\"sex\", data=claims)"
      ],
      "execution_count": 4,
      "outputs": [
        {
          "output_type": "display_data",
          "data": {
            "image/png": "[encoded data removed]",
            "text/plain": [
              "<Figure size 432x288 with 1 Axes>"
            ]
          },
          "metadata": {
            "tags": [],
            "needs_background": "light"
          }
        }
      ]
    },
    {
      "cell_type": "code",
      "metadata": {
        "colab": {
          "base_uri": "https://localhost:8080/",
          "height": 280
        },
        "id": "EpYY0H6B4RSg",
        "outputId": "bf12f7ec-713d-4ec4-e940-336175f1afd4"
      },
      "source": [
        "ax = sns.countplot(x=\"insurance_claim\", hue=\"smoker\", data=claims)"
      ],
      "execution_count": 5,
      "outputs": [
        {
          "output_type": "display_data",
          "data": {
            "image/png": "[encoded data removed]",
            "text/plain": [
              "<Figure size 432x288 with 1 Axes>"
            ]
          },
          "metadata": {
            "tags": [],
            "needs_background": "light"
          }
        }
      ]
    },
    {
      "cell_type": "markdown",
      "metadata": {
        "id": "8CkZgEEoR5BI"
      },
      "source": [
        "The two countplots above show how smoker status and gender affects whether or not the customer claimed. It is clear that more males claim than females and more non-smokers claim than smokers."
      ]
    },
    {
      "cell_type": "code",
      "metadata": {
        "colab": {
          "base_uri": "https://localhost:8080/",
          "height": 280
        },
        "id": "Ey9PTUWmTE1V",
        "outputId": "eb28c60c-ff47-4656-c203-d6f4078116a3"
      },
      "source": [
        "ax = sns.countplot(x=\"insurance_claim\", hue=\"region\", data=claims)"
      ],
      "execution_count": 20,
      "outputs": [
        {
          "output_type": "display_data",
          "data": {
            "image/png": "[encoded data removed]",
            "text/plain": [
              "<Figure size 432x288 with 1 Axes>"
            ]
          },
          "metadata": {
            "tags": [],
            "needs_background": "light"
          }
        }
      ]
    },
    {
      "cell_type": "code",
      "metadata": {
        "colab": {
          "base_uri": "https://localhost:8080/",
          "height": 297
        },
        "id": "RdcgUNrY6Av4",
        "outputId": "d3d18244-b2f0-40a0-fa2a-789cb60925dc"
      },
      "source": [
        "ax = sns.boxplot(x=\"insurance_claim\", y=\"bmi\", hue=\"region\",\r\n",
        "                 data=claims, palette=\"Set3\")\r\n",
        "# Put the legend out of the figure\r\n",
        "plt.legend(bbox_to_anchor=(1.05, 1), loc=2, borderaxespad=0.)"
      ],
      "execution_count": 6,
      "outputs": [
        {
          "output_type": "execute_result",
          "data": {
            "text/plain": [
              "<matplotlib.legend.Legend at 0x7fa7015b2208>"
            ]
          },
          "metadata": {
            "tags": []
          },
          "execution_count": 6
        },
        {
          "output_type": "display_data",
          "data": {
            "image/png": "[encoded data removed]",
            "text/plain": [
              "<Figure size 432x288 with 1 Axes>"
            ]
          },
          "metadata": {
            "tags": [],
            "needs_background": "light"
          }
        }
      ]
    },
    {
      "cell_type": "markdown",
      "metadata": {
        "id": "dPTglLOYSWl9"
      },
      "source": [
        "The boxplot and barplot above shows how bmi and region affects whether or not a customer claims. Customers in the southeast region shows to have the highest average bmi between the customers who claim while customers in the northeast show to have the lowest bmi's on average. It is clear from the barplot that more customers in the southeast region are claiming with northeast having the least customers claiming. Therefore, it is safe to assume that the customer's bmi has a negative correlation with whether or not a customer claims. "
      ]
    },
    {
      "cell_type": "code",
      "metadata": {
        "colab": {
          "base_uri": "https://localhost:8080/",
          "height": 315
        },
        "id": "tFiV306p7Or5",
        "outputId": "8b80d3c4-4c27-4939-e87d-df26608a656a"
      },
      "source": [
        "ax = sns.boxplot(x=\"insurance_claim\", y=\"children\",\r\n",
        "                 data=claims, palette=\"Set3\")\r\n",
        "# Put the legend out of the figure\r\n",
        "plt.legend(bbox_to_anchor=(1.05, 1), loc=2, borderaxespad=0.)"
      ],
      "execution_count": 7,
      "outputs": [
        {
          "output_type": "stream",
          "text": [
            "No handles with labels found to put in legend.\n"
          ],
          "name": "stderr"
        },
        {
          "output_type": "execute_result",
          "data": {
            "text/plain": [
              "<matplotlib.legend.Legend at 0x7fa71a9b0b00>"
            ]
          },
          "metadata": {
            "tags": []
          },
          "execution_count": 7
        },
        {
          "output_type": "display_data",
          "data": {
            "image/png": "[encoded data removed]",
            "text/plain": [
              "<Figure size 432x288 with 1 Axes>"
            ]
          },
          "metadata": {
            "tags": [],
            "needs_background": "light"
          }
        }
      ]
    },
    {
      "cell_type": "markdown",
      "metadata": {
        "id": "5kK_HBWeTxT4"
      },
      "source": [
        "Customers with more children tend not to claim."
      ]
    },
    {
      "cell_type": "code",
      "metadata": {
        "colab": {
          "base_uri": "https://localhost:8080/",
          "height": 315
        },
        "id": "8bLvs3qc7j2X",
        "outputId": "dc3c76c8-51c9-4d85-9c25-c54af5345e92"
      },
      "source": [
        "ax = sns.boxplot(x=\"insurance_claim\", y=\"age\",\r\n",
        "                 data=claims, palette=\"Set3\")\r\n",
        "# Put the legend out of the figure\r\n",
        "plt.legend(bbox_to_anchor=(1.05, 1), loc=2, borderaxespad=0.)"
      ],
      "execution_count": 8,
      "outputs": [
        {
          "output_type": "stream",
          "text": [
            "No handles with labels found to put in legend.\n"
          ],
          "name": "stderr"
        },
        {
          "output_type": "execute_result",
          "data": {
            "text/plain": [
              "<matplotlib.legend.Legend at 0x7fa700f2f6a0>"
            ]
          },
          "metadata": {
            "tags": []
          },
          "execution_count": 8
        },
        {
          "output_type": "display_data",
          "data": {
            "image/png": "[encoded data removed]",
            "text/plain": [
              "<Figure size 432x288 with 1 Axes>"
            ]
          },
          "metadata": {
            "tags": [],
            "needs_background": "light"
          }
        }
      ]
    },
    {
      "cell_type": "markdown",
      "metadata": {
        "id": "-l8nYilsT5qM"
      },
      "source": [
        "Older customers tend to claim more compared to younger customers."
      ]
    },
    {
      "cell_type": "markdown",
      "metadata": {
        "id": "cgf2DX8sCq_B"
      },
      "source": [
        "## **MODELING**"
      ]
    },
    {
      "cell_type": "code",
      "metadata": {
        "id": "2Zmw6H0HC5I4"
      },
      "source": [
        "# SPLITTING DATASET INTO FEATURES AND LABELS\r\n",
        " \r\n",
        "y = claims['insurance_claim']\r\n",
        "X = claims.drop('insurance_claim', axis=1)"
      ],
      "execution_count": 9,
      "outputs": []
    },
    {
      "cell_type": "code",
      "metadata": {
        "id": "PrBqqugpzJ3S"
      },
      "source": [
        "# TRANSFORM THE CATEGORICAL DATA INTO NUMERICAL DATA\r\n",
        "\r\n",
        "X = pd.get_dummies(X, drop_first=True)"
      ],
      "execution_count": 10,
      "outputs": []
    },
    {
      "cell_type": "code",
      "metadata": {
        "id": "eYdZ_UHCEuSd"
      },
      "source": [
        "# SPLITTING INTO TRAIN AND TEST SETS\r\n",
        "\r\n",
        "X_train, X_test, y_train, y_test = train_test_split(X, y, test_size=0.3, random_state=50)"
      ],
      "execution_count": 11,
      "outputs": []
    },
    {
      "cell_type": "markdown",
      "metadata": {
        "id": "L11qyKbl8inr"
      },
      "source": [
        "**LOGISTIC REGRESSION MODEL**"
      ]
    },
    {
      "cell_type": "code",
      "metadata": {
        "colab": {
          "base_uri": "https://localhost:8080/"
        },
        "id": "Fd1BS8p3E-D1",
        "outputId": "92e30fa2-fec4-416c-cd69-09a5260fe2da"
      },
      "source": [
        "# FIT THE MODEL TO THE TRAINING SET\r\n",
        "\r\n",
        "lr = LogisticRegression()\r\n",
        "lr.fit(X_train, y_train)"
      ],
      "execution_count": 12,
      "outputs": [
        {
          "output_type": "execute_result",
          "data": {
            "text/plain": [
              "LogisticRegression(C=1.0, class_weight=None, dual=False, fit_intercept=True,\n",
              "                   intercept_scaling=1, l1_ratio=None, max_iter=100,\n",
              "                   multi_class='auto', n_jobs=None, penalty='l2',\n",
              "                   random_state=None, solver='lbfgs', tol=0.0001, verbose=0,\n",
              "                   warm_start=False)"
            ]
          },
          "metadata": {
            "tags": []
          },
          "execution_count": 12
        }
      ]
    },
    {
      "cell_type": "code",
      "metadata": {
        "id": "lWefXVzQFRlB"
      },
      "source": [
        "# USE THE MODEL TO PREDICT Y VALUES \r\n",
        "\r\n",
        "y_pred = lr.predict(X_test)"
      ],
      "execution_count": 13,
      "outputs": []
    },
    {
      "cell_type": "markdown",
      "metadata": {
        "id": "zXaFwDu59i_z"
      },
      "source": [
        "**XGBOOST MODEL**"
      ]
    },
    {
      "cell_type": "code",
      "metadata": {
        "colab": {
          "base_uri": "https://localhost:8080/"
        },
        "id": "YAuVxMiT9pZ9",
        "outputId": "e26dadf2-a638-4a48-c1c0-8897c8331724"
      },
      "source": [
        "xg =  XGBClassifier()\r\n",
        "xg.fit(X_train, y_train)"
      ],
      "execution_count": 14,
      "outputs": [
        {
          "output_type": "execute_result",
          "data": {
            "text/plain": [
              "XGBClassifier(base_score=0.5, booster='gbtree', colsample_bylevel=1,\n",
              "              colsample_bynode=1, colsample_bytree=1, gamma=0,\n",
              "              learning_rate=0.1, max_delta_step=0, max_depth=3,\n",
              "              min_child_weight=1, missing=None, n_estimators=100, n_jobs=1,\n",
              "              nthread=None, objective='binary:logistic', random_state=0,\n",
              "              reg_alpha=0, reg_lambda=1, scale_pos_weight=1, seed=None,\n",
              "              silent=None, subsample=1, verbosity=1)"
            ]
          },
          "metadata": {
            "tags": []
          },
          "execution_count": 14
        }
      ]
    },
    {
      "cell_type": "code",
      "metadata": {
        "id": "PRZ228sS93Ne"
      },
      "source": [
        "y_pred2 = xg.predict(X_test)"
      ],
      "execution_count": 15,
      "outputs": []
    },
    {
      "cell_type": "markdown",
      "metadata": {
        "id": "e51lYxD9DZdI"
      },
      "source": [
        "## **EVALUATE MODELS**"
      ]
    },
    {
      "cell_type": "markdown",
      "metadata": {
        "id": "ifGXDn---AwK"
      },
      "source": [
        "**LOGISTIC REGRESSION**"
      ]
    },
    {
      "cell_type": "code",
      "metadata": {
        "colab": {
          "base_uri": "https://localhost:8080/"
        },
        "id": "mKMeMQf-DfbX",
        "outputId": "f99133ac-dbec-444e-ce93-c1f88fc615e6"
      },
      "source": [
        "accuracy_score(y_test, y_pred)"
      ],
      "execution_count": 16,
      "outputs": [
        {
          "output_type": "execute_result",
          "data": {
            "text/plain": [
              "1.0"
            ]
          },
          "metadata": {
            "tags": []
          },
          "execution_count": 16
        }
      ]
    },
    {
      "cell_type": "code",
      "metadata": {
        "colab": {
          "base_uri": "https://localhost:8080/"
        },
        "id": "SBubicXZGbZw",
        "outputId": "920540e6-3aeb-470f-fd6b-71efb3ea7a07"
      },
      "source": [
        "confusion_matrix(y_test, y_pred)"
      ],
      "execution_count": 17,
      "outputs": [
        {
          "output_type": "execute_result",
          "data": {
            "text/plain": [
              "array([[171,   0],\n",
              "       [  0, 231]])"
            ]
          },
          "metadata": {
            "tags": []
          },
          "execution_count": 17
        }
      ]
    },
    {
      "cell_type": "markdown",
      "metadata": {
        "id": "Z9bbnywZ-GoL"
      },
      "source": [
        "**XGBOOST**"
      ]
    },
    {
      "cell_type": "code",
      "metadata": {
        "colab": {
          "base_uri": "https://localhost:8080/"
        },
        "id": "QGzAv1Xh-RbE",
        "outputId": "b7492a36-0c02-407d-ffc5-75cce518753d"
      },
      "source": [
        "accuracy_score(y_test, y_pred2)"
      ],
      "execution_count": 18,
      "outputs": [
        {
          "output_type": "execute_result",
          "data": {
            "text/plain": [
              "1.0"
            ]
          },
          "metadata": {
            "tags": []
          },
          "execution_count": 18
        }
      ]
    },
    {
      "cell_type": "code",
      "metadata": {
        "colab": {
          "base_uri": "https://localhost:8080/"
        },
        "id": "EwpNzRIj-WGd",
        "outputId": "7efd5fe8-646f-49b5-e36e-f05492db305a"
      },
      "source": [
        "confusion_matrix(y_test, y_pred2)"
      ],
      "execution_count": 19,
      "outputs": [
        {
          "output_type": "execute_result",
          "data": {
            "text/plain": [
              "array([[171,   0],\n",
              "       [  0, 231]])"
            ]
          },
          "metadata": {
            "tags": []
          },
          "execution_count": 19
        }
      ]
    },
    {
      "cell_type": "markdown",
      "metadata": {
        "id": "qn0c8lbxDkU3"
      },
      "source": [
        "## **CONCLUSION**"
      ]
    },
    {
      "cell_type": "markdown",
      "metadata": {
        "id": "85GkStI8G_wr"
      },
      "source": [
        "Both models produced 100% accuracy."
      ]
    }
  ]
}